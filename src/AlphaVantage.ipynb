{
 "cells": [
  {
   "cell_type": "code",
   "execution_count": 1,
   "id": "6d7594a5",
   "metadata": {},
   "outputs": [],
   "source": [
    "import pandas as pd\n",
    "import numpy as np\n",
    "import requests\n",
    "import time\n",
    "import matplotlib.pyplot as plt\n",
    "from matplotlib.animation import FuncAnimation\n",
    "%matplotlib notebook\n",
    "\n",
    "def currency_rate(cur1='USD', cur2='EUR', api_key = 'OZHBQ2Q48QC0NFRZ'):\n",
    "    rate = requests.get(f'https://www.alphavantage.co/query?function=CURRENCY_EXCHANGE_RATE&from_currency={cur1}&to_currency={cur2}&apikey={api_key}').json()\n",
    "    rate = rate['Realtime Currency Exchange Rate']\n",
    "    return pd.DataFrame([rate.values()], columns=rate.keys())\n",
    "\n",
    "\n",
    "def continuous_rate(cur1='USD', cur2='EUR', seconds = 15):\n",
    "    data = currency_rate(cur1, cur2)\n",
    "    while True:\n",
    "        time.sleep(seconds)\n",
    "        data_next = currency_rate(cur1, cur2)\n",
    "        data = data.append(data_next)\n",
    "        data.to_csv('../data/time_series_data.csv')\n",
    "\n",
    "        \n",
    "        \n",
    "# if __name__ = '__main__':        \n",
    "#     continuous_rate('USD','EUR')"
   ]
  },
  {
   "cell_type": "code",
   "execution_count": 31,
   "id": "6dbf3432",
   "metadata": {},
   "outputs": [
    {
     "name": "stdout",
     "output_type": "stream",
     "text": [
      "                     1. open  2. high   3. low 4. close\n",
      "2021-07-02 06:55:00  0.84460  0.84460  0.84440  0.84440\n",
      "2021-07-02 07:00:00  0.84450  0.84450  0.84430  0.84430\n",
      "2021-07-02 07:05:00  0.84450  0.84500  0.84450  0.84470\n",
      "2021-07-02 07:10:00  0.84490  0.84530  0.84490  0.84530\n",
      "2021-07-02 07:15:00  0.84520  0.84530  0.84510  0.84530\n",
      "...                      ...      ...      ...      ...\n",
      "2021-07-02 14:55:00  0.84480  0.84480  0.84460  0.84470\n",
      "2021-07-02 15:00:00  0.84440  0.84470  0.84410  0.84420\n",
      "2021-07-02 15:05:00  0.84410  0.84420  0.84380  0.84410\n",
      "2021-07-02 15:10:00  0.84400  0.84400  0.84390  0.84400\n",
      "2021-07-02 15:10:00  0.84400  0.84400  0.84390  0.84400\n",
      "\n",
      "[101 rows x 4 columns]\n"
     ]
    }
   ],
   "source": [
    "def historic_rate(cur1='USD', cur2='EUR', interval = '5min', api_key = 'OZHBQ2Q48QC0NFRZ'):\n",
    "    rate = requests.get(f\"https://www.alphavantage.co/query?function=FX_INTRADAY&from_symbol={cur1}&to_symbol={cur2}&interval={interval}&apikey={api_key}\").json()\n",
    "    rate = pd.DataFrame(rate[f'Time Series FX ({interval})']).T\n",
    "    return rate.iloc[::-1]\n",
    "\n",
    "def continuous_historic_rate(cur1='USD', cur2='EUR',seconds = 300):\n",
    "    data = historic_rate(cur1,cur2)\n",
    "    data.to_csv('../data/historic_time_series_data.csv')\n",
    "    while True:\n",
    "        time.sleep(seconds)\n",
    "        data_next = historic_rate(cur1,cur2).iloc[-1]\n",
    "        data = data.append(data_next)\n",
    "        data.to_csv('../data/historic_time_series_data.csv')"
   ]
  },
  {
   "cell_type": "code",
   "execution_count": null,
   "id": "9c26483d",
   "metadata": {},
   "outputs": [],
   "source": []
  },
  {
   "cell_type": "code",
   "execution_count": 32,
   "id": "ee0fd816",
   "metadata": {},
   "outputs": [
    {
     "data": {
      "text/html": [
       "<div>\n",
       "<style scoped>\n",
       "    .dataframe tbody tr th:only-of-type {\n",
       "        vertical-align: middle;\n",
       "    }\n",
       "\n",
       "    .dataframe tbody tr th {\n",
       "        vertical-align: top;\n",
       "    }\n",
       "\n",
       "    .dataframe thead th {\n",
       "        text-align: right;\n",
       "    }\n",
       "</style>\n",
       "<table border=\"1\" class=\"dataframe\">\n",
       "  <thead>\n",
       "    <tr style=\"text-align: right;\">\n",
       "      <th></th>\n",
       "      <th>Unnamed: 0</th>\n",
       "      <th>1. open</th>\n",
       "      <th>2. high</th>\n",
       "      <th>3. low</th>\n",
       "      <th>4. close</th>\n",
       "    </tr>\n",
       "  </thead>\n",
       "  <tbody>\n",
       "    <tr>\n",
       "      <th>0</th>\n",
       "      <td>2021-07-02 15:15:00</td>\n",
       "      <td>1.18452</td>\n",
       "      <td>1.18481</td>\n",
       "      <td>1.1843</td>\n",
       "      <td>1.18475</td>\n",
       "    </tr>\n",
       "    <tr>\n",
       "      <th>1</th>\n",
       "      <td>2021-07-02 15:10:00</td>\n",
       "      <td>1.18435</td>\n",
       "      <td>1.18465</td>\n",
       "      <td>1.1842</td>\n",
       "      <td>1.18440</td>\n",
       "    </tr>\n",
       "    <tr>\n",
       "      <th>2</th>\n",
       "      <td>2021-07-02 15:05:00</td>\n",
       "      <td>1.18426</td>\n",
       "      <td>1.18450</td>\n",
       "      <td>1.1839</td>\n",
       "      <td>1.18420</td>\n",
       "    </tr>\n",
       "    <tr>\n",
       "      <th>3</th>\n",
       "      <td>2021-07-02 15:00:00</td>\n",
       "      <td>1.18349</td>\n",
       "      <td>1.18440</td>\n",
       "      <td>1.1832</td>\n",
       "      <td>1.18427</td>\n",
       "    </tr>\n",
       "    <tr>\n",
       "      <th>4</th>\n",
       "      <td>2021-07-02 14:55:00</td>\n",
       "      <td>1.18326</td>\n",
       "      <td>1.18362</td>\n",
       "      <td>1.1830</td>\n",
       "      <td>1.18349</td>\n",
       "    </tr>\n",
       "    <tr>\n",
       "      <th>...</th>\n",
       "      <td>...</td>\n",
       "      <td>...</td>\n",
       "      <td>...</td>\n",
       "      <td>...</td>\n",
       "      <td>...</td>\n",
       "    </tr>\n",
       "    <tr>\n",
       "      <th>95</th>\n",
       "      <td>2021-07-02 07:20:00</td>\n",
       "      <td>1.18230</td>\n",
       "      <td>1.18274</td>\n",
       "      <td>1.1822</td>\n",
       "      <td>1.18271</td>\n",
       "    </tr>\n",
       "    <tr>\n",
       "      <th>96</th>\n",
       "      <td>2021-07-02 07:15:00</td>\n",
       "      <td>1.18279</td>\n",
       "      <td>1.18303</td>\n",
       "      <td>1.1822</td>\n",
       "      <td>1.18236</td>\n",
       "    </tr>\n",
       "    <tr>\n",
       "      <th>97</th>\n",
       "      <td>2021-07-02 07:10:00</td>\n",
       "      <td>1.18305</td>\n",
       "      <td>1.18334</td>\n",
       "      <td>1.1825</td>\n",
       "      <td>1.18278</td>\n",
       "    </tr>\n",
       "    <tr>\n",
       "      <th>98</th>\n",
       "      <td>2021-07-02 07:05:00</td>\n",
       "      <td>1.18380</td>\n",
       "      <td>1.18391</td>\n",
       "      <td>1.1828</td>\n",
       "      <td>1.18290</td>\n",
       "    </tr>\n",
       "    <tr>\n",
       "      <th>99</th>\n",
       "      <td>2021-07-02 07:00:00</td>\n",
       "      <td>1.18381</td>\n",
       "      <td>1.18389</td>\n",
       "      <td>1.1834</td>\n",
       "      <td>1.18389</td>\n",
       "    </tr>\n",
       "  </tbody>\n",
       "</table>\n",
       "<p>100 rows × 5 columns</p>\n",
       "</div>"
      ],
      "text/plain": [
       "             Unnamed: 0  1. open  2. high  3. low  4. close\n",
       "0   2021-07-02 15:15:00  1.18452  1.18481  1.1843   1.18475\n",
       "1   2021-07-02 15:10:00  1.18435  1.18465  1.1842   1.18440\n",
       "2   2021-07-02 15:05:00  1.18426  1.18450  1.1839   1.18420\n",
       "3   2021-07-02 15:00:00  1.18349  1.18440  1.1832   1.18427\n",
       "4   2021-07-02 14:55:00  1.18326  1.18362  1.1830   1.18349\n",
       "..                  ...      ...      ...     ...       ...\n",
       "95  2021-07-02 07:20:00  1.18230  1.18274  1.1822   1.18271\n",
       "96  2021-07-02 07:15:00  1.18279  1.18303  1.1822   1.18236\n",
       "97  2021-07-02 07:10:00  1.18305  1.18334  1.1825   1.18278\n",
       "98  2021-07-02 07:05:00  1.18380  1.18391  1.1828   1.18290\n",
       "99  2021-07-02 07:00:00  1.18381  1.18389  1.1834   1.18389\n",
       "\n",
       "[100 rows x 5 columns]"
      ]
     },
     "execution_count": 32,
     "metadata": {},
     "output_type": "execute_result"
    }
   ],
   "source": [
    "pd.read_csv('../data/historic_time_series_data.csv')"
   ]
  },
  {
   "cell_type": "code",
   "execution_count": 4,
   "id": "442c3ea7",
   "metadata": {},
   "outputs": [
    {
     "data": {
      "image/png": "[encoded data removed]",
      "text/plain": [
       "<Figure size 432x288 with 1 Axes>"
      ]
     },
     "metadata": {
      "needs_background": "light"
     },
     "output_type": "display_data"
    }
   ],
   "source": [
    "%matplotlib inline\n",
    "fig = plt.figure()\n",
    "#creating a subplot \n",
    "ax = fig.add_subplot(1,1,1)\n",
    "\n",
    "def animate(i, file = 'time_series_data.csv'):\n",
    "    data = pd.read_csv(f'../data/{file}')\n",
    "    xs = []\n",
    "    ys = []\n",
    "    values = data['5. Exchange Rate'].values\n",
    "    for x,y in zip(range(len(values)), values):\n",
    "        xs.append(x)\n",
    "        ys.append(y)\n",
    "    ax.clear()\n",
    "    ax.plot(xs,ys)\n",
    "    plt.xlabel('Date')\n",
    "    plt.ylabel('Price')\n",
    "    plt.title('EUR/USD')\n",
    "    fig.autofmt_xdate(rotation=45)\n",
    "\n",
    "    \n",
    "ani = FuncAnimation(fig, animate, interval=15000) \n",
    "plt.show()"
   ]
  },
  {
   "cell_type": "code",
   "execution_count": 33,
   "id": "959fdf09",
   "metadata": {},
   "outputs": [
    {
     "ename": "SyntaxError",
     "evalue": "invalid syntax (<ipython-input-33-40fdc8691508>, line 12)",
     "output_type": "error",
     "traceback": [
      "\u001b[0;36m  File \u001b[0;32m\"<ipython-input-33-40fdc8691508>\"\u001b[0;36m, line \u001b[0;32m12\u001b[0m\n\u001b[0;31m    for x,y in zip(range(len(values)), values):\u001b[0m\n\u001b[0m                                              ^\u001b[0m\n\u001b[0;31mSyntaxError\u001b[0m\u001b[0;31m:\u001b[0m invalid syntax\n"
     ]
    }
   ],
   "source": [
    "%matplotlib inline\n",
    "fig = plt.figure()\n",
    "#creating a subplot \n",
    "ax = fig.add_subplot(1,1,1)\n",
    "\n",
    "def historic_animate(i, file = 'historic_time_series_data.csv'):\n",
    "    data = pd.read_csv(f'../data/{file}')\n",
    "    xs = []\n",
    "    ys = []\n",
    "    values = data['4. close'].values\n",
    "    ax.plot(values,range(len(values)))\n",
    "    for x,y in zip(range(len(values)), values):\n",
    "        xs.append(x)\n",
    "        ys.append(y)\n",
    "    ax.clear()\n",
    "    ax.plot(xs,ys)\n",
    "    plt.xlabel('Date')\n",
    "    plt.ylabel('Price')\n",
    "    plt.title('EUR/USD')\n",
    "    fig.autofmt_xdate(rotation=45)\n",
    "\n",
    "    \n",
    "ani = FuncAnimation(fig, historic_animate, interval=300000) \n",
    "plt.show()"
   ]
  },
  {
   "cell_type": "code",
   "execution_count": null,
   "id": "14c2afb5",
   "metadata": {},
   "outputs": [],
   "source": [
    "def RSI(data, periods = 14):\n",
    "    # Momentum indicator\n",
    "    # 0-100. 70 = Overbought. 30 = Oversold"
   ]
  },
  {
   "cell_type": "code",
   "execution_count": null,
   "id": "2245d4da",
   "metadata": {},
   "outputs": [],
   "source": [
    "def "
   ]
  }
 ],
 "metadata": {
  "kernelspec": {
   "display_name": "Python 3",
   "language": "python",
   "name": "python3"
  },
  "language_info": {
   "codemirror_mode": {
    "name": "ipython",
    "version": 3
   },
   "file_extension": ".py",
   "mimetype": "text/x-python",
   "name": "python",
   "nbconvert_exporter": "python",
   "pygments_lexer": "ipython3",
   "version": "3.7.7"
  }
 },
 "nbformat": 4,
 "nbformat_minor": 5
}
