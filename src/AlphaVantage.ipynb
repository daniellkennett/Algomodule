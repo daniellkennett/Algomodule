{
 "cells": [
  {
   "cell_type": "code",
   "execution_count": null,
   "id": "e90284f1",
   "metadata": {},
   "outputs": [],
   "source": [
    "import pandas as pd\n",
    "import numpy as np\n",
    "import requests\n",
    "import time\n",
    "\n",
    "def currency_rate(cur1, cur2, api = 'OZHBQ2Q48QC0NFRZ'):\n",
    "    rate = requests.get(f'https://www.alphavantage.co/query?function=CURRENCY_EXCHANGE_RATE&from_currency={cur1}&to_currency={cur2}&apikey={api}').json()\n",
    "    rate = rate['Realtime Currency Exchange Rate']\n",
    "    return pd.DataFrame([rate.values()], columns=rate.keys())\n",
    "\n",
    "\n",
    "def continuous_rate(cur1, cur2, seconds = 15):\n",
    "    data = currency_rate(cur1, cur2)\n",
    "    while True:\n",
    "        time.sleep(seconds)\n",
    "        data_next = currency_rate(cur1, cur2)\n",
    "        data = data.append(data_next)\n",
    "        print(data)\n",
    "        data.to_csv('../data/time_series_data.csv')\n",
    "        \n",
    "if __name__ = '__main__':        \n",
    "continuous_rate('USD','EUR')"
   ]
  },
  {
   "cell_type": "code",
   "execution_count": 89,
   "id": "c6ff29a0",
   "metadata": {},
   "outputs": [
    {
     "name": "stdout",
     "output_type": "stream",
     "text": [
      "  1. From_Currency Code 2. From_Currency Name 3. To_Currency Code  \\\n",
      "0                   USD  United States Dollar                 EUR   \n",
      "0                   USD  United States Dollar                 EUR   \n",
      "\n",
      "  4. To_Currency Name 5. Exchange Rate    6. Last Refreshed 7. Time Zone  \\\n",
      "0                Euro       0.82360000  2021-05-14 18:10:23          UTC   \n",
      "0                Euro       0.82360000  2021-05-14 18:10:44          UTC   \n",
      "\n",
      "  8. Bid Price 9. Ask Price  \n",
      "0   0.82359000   0.82363000  \n",
      "0   0.82358000   0.82362000  \n",
      "  1. From_Currency Code 2. From_Currency Name 3. To_Currency Code  \\\n",
      "0                   USD  United States Dollar                 EUR   \n",
      "0                   USD  United States Dollar                 EUR   \n",
      "0                   USD  United States Dollar                 EUR   \n",
      "\n",
      "  4. To_Currency Name 5. Exchange Rate    6. Last Refreshed 7. Time Zone  \\\n",
      "0                Euro       0.82360000  2021-05-14 18:10:23          UTC   \n",
      "0                Euro       0.82360000  2021-05-14 18:10:44          UTC   \n",
      "0                Euro       0.82360000  2021-05-14 18:11:01          UTC   \n",
      "\n",
      "  8. Bid Price 9. Ask Price  \n",
      "0   0.82359000   0.82363000  \n",
      "0   0.82358000   0.82362000  \n",
      "0   0.82359000   0.82360000  \n"
     ]
    },
    {
     "ename": "KeyboardInterrupt",
     "evalue": "",
     "output_type": "error",
     "traceback": [
      "\u001b[0;31m---------------------------------------------------------------------------\u001b[0m",
      "\u001b[0;31mKeyboardInterrupt\u001b[0m                         Traceback (most recent call last)",
      "\u001b[0;32m<ipython-input-89-c02838c98e17>\u001b[0m in \u001b[0;36m<module>\u001b[0;34m\u001b[0m\n\u001b[1;32m     15\u001b[0m \u001b[0;34m\u001b[0m\u001b[0m\n\u001b[1;32m     16\u001b[0m \u001b[0;34m\u001b[0m\u001b[0m\n\u001b[0;32m---> 17\u001b[0;31m \u001b[0mcontinuous_rate\u001b[0m\u001b[0;34m(\u001b[0m\u001b[0;34m'USD'\u001b[0m\u001b[0;34m,\u001b[0m\u001b[0;34m'EUR'\u001b[0m\u001b[0;34m)\u001b[0m\u001b[0;34m\u001b[0m\u001b[0;34m\u001b[0m\u001b[0m\n\u001b[0m",
      "\u001b[0;32m<ipython-input-89-c02838c98e17>\u001b[0m in \u001b[0;36mcontinuous_rate\u001b[0;34m(cur1, cur2, seconds)\u001b[0m\n\u001b[1;32m      8\u001b[0m     \u001b[0mdata\u001b[0m \u001b[0;34m=\u001b[0m \u001b[0mcurrency_rate\u001b[0m\u001b[0;34m(\u001b[0m\u001b[0mcur1\u001b[0m\u001b[0;34m,\u001b[0m \u001b[0mcur2\u001b[0m\u001b[0;34m)\u001b[0m\u001b[0;34m\u001b[0m\u001b[0;34m\u001b[0m\u001b[0m\n\u001b[1;32m      9\u001b[0m     \u001b[0;32mwhile\u001b[0m \u001b[0;32mTrue\u001b[0m\u001b[0;34m:\u001b[0m\u001b[0;34m\u001b[0m\u001b[0;34m\u001b[0m\u001b[0m\n\u001b[0;32m---> 10\u001b[0;31m         \u001b[0mtime\u001b[0m\u001b[0;34m.\u001b[0m\u001b[0msleep\u001b[0m\u001b[0;34m(\u001b[0m\u001b[0mseconds\u001b[0m\u001b[0;34m)\u001b[0m\u001b[0;34m\u001b[0m\u001b[0;34m\u001b[0m\u001b[0m\n\u001b[0m\u001b[1;32m     11\u001b[0m         \u001b[0mdata_next\u001b[0m \u001b[0;34m=\u001b[0m \u001b[0mcurrency_rate\u001b[0m\u001b[0;34m(\u001b[0m\u001b[0mcur1\u001b[0m\u001b[0;34m,\u001b[0m \u001b[0mcur2\u001b[0m\u001b[0;34m)\u001b[0m\u001b[0;34m\u001b[0m\u001b[0;34m\u001b[0m\u001b[0m\n\u001b[1;32m     12\u001b[0m         \u001b[0mdata\u001b[0m \u001b[0;34m=\u001b[0m \u001b[0mdata\u001b[0m\u001b[0;34m.\u001b[0m\u001b[0mappend\u001b[0m\u001b[0;34m(\u001b[0m\u001b[0mdata_next\u001b[0m\u001b[0;34m)\u001b[0m\u001b[0;34m\u001b[0m\u001b[0;34m\u001b[0m\u001b[0m\n",
      "\u001b[0;31mKeyboardInterrupt\u001b[0m: "
     ]
    }
   ],
   "source": [
    "\n"
   ]
  }
 ],
 "metadata": {
  "kernelspec": {
   "display_name": "Python 3",
   "language": "python",
   "name": "python3"
  },
  "language_info": {
   "codemirror_mode": {
    "name": "ipython",
    "version": 3
   },
   "file_extension": ".py",
   "mimetype": "text/x-python",
   "name": "python",
   "nbconvert_exporter": "python",
   "pygments_lexer": "ipython3",
   "version": "3.7.7"
  }
 },
 "nbformat": 4,
 "nbformat_minor": 5
}
