{
 "cells": [
  {
   "cell_type": "code",
   "execution_count": 4,
   "metadata": {},
   "outputs": [],
   "source": [
    "import requests\n",
    "import json\n",
    "import urllib\n",
    "from datetime import datetime\n",
    "from TDameritrad_api import CONSUMER_KEY, REDIRECT_URI, JSON_PATH\n",
    "from td.client import TDClient\n",
    "from tda import auth, client\n",
    "import pandas as pd\n",
    "token_path = JSON_PATH\n",
    "api_key = CONSUMER_KEY\n",
    "redirect_uri = REDIRECT_URI"
   ]
  },
  {
   "cell_type": "code",
   "execution_count": 9,
   "metadata": {},
   "outputs": [
    {
     "name": "stdout",
     "output_type": "stream",
     "text": [
      "            open        high         low       close     volume  \\\n",
      "0       0.401964    0.404643    0.389821    0.391071  137782400   \n",
      "1       0.393750    0.416071    0.392143    0.416071  529496800   \n",
      "2       0.410714    0.424107    0.406607    0.421071  612007200   \n",
      "3       0.416786    0.427679    0.410536    0.423036  409976000   \n",
      "4       0.423571    0.428571    0.406250    0.408929  444584000   \n",
      "...          ...         ...         ...         ...        ...   \n",
      "5030  173.040000  175.860000  172.150000  175.640000   92135303   \n",
      "5031  175.850000  176.849900  175.270000  176.280000   68356567   \n",
      "5032  177.085000  180.420000  177.070000  180.330000   74919582   \n",
      "5033  180.160000  181.330000  178.530000  179.290000   79144339   \n",
      "5034  179.330000  180.630000  178.140000  179.380000   62348931   \n",
      "\n",
      "                datetime  \n",
      "0    2001-12-31 01:00:00  \n",
      "1    2002-01-02 01:00:00  \n",
      "2    2002-01-03 01:00:00  \n",
      "3    2002-01-04 01:00:00  \n",
      "4    2002-01-07 01:00:00  \n",
      "...                  ...  \n",
      "5030 2021-12-22 01:00:00  \n",
      "5031 2021-12-23 01:00:00  \n",
      "5032 2021-12-27 01:00:00  \n",
      "5033 2021-12-28 01:00:00  \n",
      "5034 2021-12-29 01:00:00  \n",
      "\n",
      "[5035 rows x 6 columns]\n"
     ]
    }
   ],
   "source": [
    "try:\n",
    "    c = auth.client_from_token_file(token_path, api_key)\n",
    "except:\n",
    "    from selenium import webdriver\n",
    "    with webdriver.Chrome('/home/daniel/chromedriver') as driver:\n",
    "        c = auth.client_from_login_flow(\n",
    "            driver, api_key, redirect_uri, token_path)\n",
    "\n"
   ]
  },
  {
   "cell_type": "code",
   "execution_count": null,
   "metadata": {},
   "outputs": [],
   "source": [
    "stock_ticker = 'AAPL'\n",
    "r = c.get_price_history(stock_ticker,\n",
    "        period_type=client.Client.PriceHistory.PeriodType.YEAR,\n",
    "        period=client.Client.PriceHistory.Period.TWENTY_YEARS,\n",
    "        frequency_type=client.Client.PriceHistory.FrequencyType.DAILY,\n",
    "        frequency=client.Client.PriceHistory.Frequency.DAILY)\n",
    "assert r.status_code == 200, r.raise_for_status()\n",
    "data = r.json()['candles']\n",
    "data = pd.DataFrame(data)\n",
    "\n",
    "func = lambda x: x/1000\n",
    "data['datetime'] = data['datetime'].apply(func)\n",
    "\n",
    "func = lambda x: datetime.fromtimestamp(x)\n",
    "data['datetime'] = data['datetime'].apply(func)\n",
    "print(data)"
   ]
  },
  {
   "cell_type": "code",
   "execution_count": null,
   "metadata": {},
   "outputs": [],
   "source": []
  }
 ],
 "metadata": {
  "interpreter": {
   "hash": "319c24ade14b7873a3f936c1569cf8c1853592b8350107cb8f60c9b2a2771b37"
  },
  "kernelspec": {
   "display_name": "Python 3",
   "language": "python",
   "name": "python3"
  },
  "language_info": {
   "codemirror_mode": {
    "name": "ipython",
    "version": 3
   },
   "file_extension": ".py",
   "mimetype": "text/x-python",
   "name": "python",
   "nbconvert_exporter": "python",
   "pygments_lexer": "ipython3",
   "version": "3.7.7"
  }
 },
 "nbformat": 4,
 "nbformat_minor": 4
}
