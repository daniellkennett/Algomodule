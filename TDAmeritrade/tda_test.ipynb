{
 "cells": [
  {
   "cell_type": "code",
   "execution_count": 1,
   "metadata": {},
   "outputs": [],
   "source": [
    "import pandas as pd\n",
    "pd.options.mode.chained_assignment = None\n",
    "import numpy as np\n",
    "import requests\n",
    "import json\n",
    "import urllib\n",
    "import httpx\n",
    "from datetime import datetime\n",
    "\n",
    "import sys\n",
    "sys.path.append('../')\n",
    "from config.tda.config import CONSUMER_KEY, REDIRECT_URI, JSON_PATH\n",
    "from src.PaperTrader import PaperTrader\n",
    "from src.TechAnalysis import TechAnalysis\n",
    "\n",
    "from tda import auth, client\n",
    "from tda.auth import easy_client\n",
    "from tda.client import Client\n",
    "\n",
    "token_path = JSON_PATH\n",
    "api_key = CONSUMER_KEY\n",
    "redirect_uri = REDIRECT_URI\n",
    "\n",
    "from sklearn.preprocessing import StandardScaler\n",
    "from sklearn.pipeline import make_pipeline\n",
    "from sklearn.ensemble import GradientBoostingRegressor, GradientBoostingClassifier\n",
    "from sklearn.linear_model import LinearRegression\n",
    "from sklearn.feature_selection import f_regression, SelectKBest\n",
    "from sklearn.model_selection import TimeSeriesSplit, GridSearchCV\n",
    "from sklearn.metrics import mean_squared_error, accuracy_score, precision_score\n",
    "from xgboost import XGBClassifier\n",
    "import pickle"
   ]
  },
  {
   "cell_type": "code",
   "execution_count": 2,
   "metadata": {},
   "outputs": [],
   "source": [
    "\"\"\"\n",
    "Login to TDAMERITRADE\n",
    "\"\"\"\n",
    "try:\n",
    "    c = auth.client_from_token_file(token_path, api_key)\n",
    "except:\n",
    "    from selenium import webdriver\n",
    "    with webdriver.Chrome('/home/daniel/chromedriver') as driver:\n",
    "        c = auth.client_from_login_flow(\n",
    "            driver, api_key, redirect_uri, token_path)"
   ]
  },
  {
   "cell_type": "code",
   "execution_count": 3,
   "metadata": {},
   "outputs": [],
   "source": [
    "\"\"\"\n",
    "Login/pull data from TDAMERTIRADE\n",
    "\"\"\"\n",
    "stock_ticker = 'VOO'\n",
    "\n",
    "c = easy_client(\n",
    "        api_key=api_key,\n",
    "        redirect_uri=REDIRECT_URI,\n",
    "        token_path=JSON_PATH)\n",
    "\n",
    "resp = c.get_price_history(stock_ticker,\n",
    "        period_type=Client.PriceHistory.PeriodType.YEAR,\n",
    "        period=Client.PriceHistory.Period.TWENTY_YEARS,\n",
    "        frequency_type=Client.PriceHistory.FrequencyType.DAILY,\n",
    "        frequency=Client.PriceHistory.Frequency.DAILY)\n",
    "assert resp.status_code == httpx.codes.OK\n",
    "\n",
    "data = pd.DataFrame(c.get_price_history_every_minute(stock_ticker).json()['candles'])\n",
    "data['target'] = data['close'].shift(-1)"
   ]
  },
  {
   "cell_type": "code",
   "execution_count": 4,
   "metadata": {},
   "outputs": [],
   "source": [
    "\"\"\"\n",
    "Time function\n",
    "\"\"\"\n",
    "def time_processing(df):\n",
    "    dt = np.array(df['datetime'].values)/1000\n",
    "    func = lambda x: datetime.fromtimestamp(x)\n",
    "    funcvec = np.vectorize(func)\n",
    "    dt = funcvec(dt)\n",
    "    df['datetime'] = dt\n",
    "    return df"
   ]
  },
  {
   "cell_type": "markdown",
   "metadata": {},
   "source": [
    "Weights formula:  \n",
    "$w_k = -w_{k-1} \\frac{d - k + 1}{k}$\n",
    "\n",
    "Weight converges to zero: \n",
    "$w_k \\rightarrow 0$"
   ]
  },
  {
   "cell_type": "code",
   "execution_count": 5,
   "metadata": {},
   "outputs": [],
   "source": [
    "\"\"\"\n",
    "TechAnalysis tutorial\n",
    "\"\"\"\n",
    "column_name = 'close'\n",
    "ta = TechAnalysis(data)\n",
    "# data['ma'] = ta.moving_average(column_name, 5)\n",
    "# data['rsi'] = ta.rsi(column_name, 10)\n",
    "# data['macd'] = ta.macd(column_name, 10, 30)\n",
    "# data['upper'], data['lower'] = ta.bollinger_bands(column_name, 10)\n",
    "# ta.fib_retracement()"
   ]
  },
  {
   "cell_type": "code",
   "execution_count": 6,
   "metadata": {},
   "outputs": [
    {
     "data": {
      "text/html": [
       "<div>\n",
       "<style scoped>\n",
       "    .dataframe tbody tr th:only-of-type {\n",
       "        vertical-align: middle;\n",
       "    }\n",
       "\n",
       "    .dataframe tbody tr th {\n",
       "        vertical-align: top;\n",
       "    }\n",
       "\n",
       "    .dataframe thead th {\n",
       "        text-align: right;\n",
       "    }\n",
       "</style>\n",
       "<table border=\"1\" class=\"dataframe\">\n",
       "  <thead>\n",
       "    <tr style=\"text-align: right;\">\n",
       "      <th></th>\n",
       "      <th>open</th>\n",
       "      <th>high</th>\n",
       "      <th>low</th>\n",
       "      <th>close</th>\n",
       "      <th>volume</th>\n",
       "      <th>datetime</th>\n",
       "      <th>target</th>\n",
       "    </tr>\n",
       "  </thead>\n",
       "  <tbody>\n",
       "    <tr>\n",
       "      <th>0</th>\n",
       "      <td>428.63</td>\n",
       "      <td>428.63</td>\n",
       "      <td>428.59</td>\n",
       "      <td>428.59</td>\n",
       "      <td>1300</td>\n",
       "      <td>1637658060000</td>\n",
       "      <td>428.54</td>\n",
       "    </tr>\n",
       "    <tr>\n",
       "      <th>1</th>\n",
       "      <td>428.54</td>\n",
       "      <td>428.54</td>\n",
       "      <td>428.54</td>\n",
       "      <td>428.54</td>\n",
       "      <td>100</td>\n",
       "      <td>1637658120000</td>\n",
       "      <td>428.41</td>\n",
       "    </tr>\n",
       "    <tr>\n",
       "      <th>2</th>\n",
       "      <td>428.46</td>\n",
       "      <td>428.46</td>\n",
       "      <td>428.41</td>\n",
       "      <td>428.41</td>\n",
       "      <td>597</td>\n",
       "      <td>1637658240000</td>\n",
       "      <td>428.30</td>\n",
       "    </tr>\n",
       "    <tr>\n",
       "      <th>3</th>\n",
       "      <td>428.34</td>\n",
       "      <td>428.34</td>\n",
       "      <td>428.30</td>\n",
       "      <td>428.30</td>\n",
       "      <td>300</td>\n",
       "      <td>1637658420000</td>\n",
       "      <td>428.32</td>\n",
       "    </tr>\n",
       "    <tr>\n",
       "      <th>4</th>\n",
       "      <td>428.30</td>\n",
       "      <td>428.32</td>\n",
       "      <td>428.30</td>\n",
       "      <td>428.32</td>\n",
       "      <td>300</td>\n",
       "      <td>1637658480000</td>\n",
       "      <td>428.23</td>\n",
       "    </tr>\n",
       "    <tr>\n",
       "      <th>...</th>\n",
       "      <td>...</td>\n",
       "      <td>...</td>\n",
       "      <td>...</td>\n",
       "      <td>...</td>\n",
       "      <td>...</td>\n",
       "      <td>...</td>\n",
       "      <td>...</td>\n",
       "    </tr>\n",
       "    <tr>\n",
       "      <th>16185</th>\n",
       "      <td>428.42</td>\n",
       "      <td>428.42</td>\n",
       "      <td>428.42</td>\n",
       "      <td>428.42</td>\n",
       "      <td>100</td>\n",
       "      <td>1641592440000</td>\n",
       "      <td>428.37</td>\n",
       "    </tr>\n",
       "    <tr>\n",
       "      <th>16186</th>\n",
       "      <td>428.37</td>\n",
       "      <td>428.37</td>\n",
       "      <td>428.37</td>\n",
       "      <td>428.37</td>\n",
       "      <td>100</td>\n",
       "      <td>1641592560000</td>\n",
       "      <td>428.45</td>\n",
       "    </tr>\n",
       "    <tr>\n",
       "      <th>16187</th>\n",
       "      <td>428.45</td>\n",
       "      <td>428.45</td>\n",
       "      <td>428.45</td>\n",
       "      <td>428.45</td>\n",
       "      <td>447</td>\n",
       "      <td>1641594120000</td>\n",
       "      <td>428.53</td>\n",
       "    </tr>\n",
       "    <tr>\n",
       "      <th>16188</th>\n",
       "      <td>428.53</td>\n",
       "      <td>428.53</td>\n",
       "      <td>428.53</td>\n",
       "      <td>428.53</td>\n",
       "      <td>206</td>\n",
       "      <td>1641594480000</td>\n",
       "      <td>428.58</td>\n",
       "    </tr>\n",
       "    <tr>\n",
       "      <th>16189</th>\n",
       "      <td>428.58</td>\n",
       "      <td>428.58</td>\n",
       "      <td>428.58</td>\n",
       "      <td>428.58</td>\n",
       "      <td>120</td>\n",
       "      <td>1641595980000</td>\n",
       "      <td>NaN</td>\n",
       "    </tr>\n",
       "  </tbody>\n",
       "</table>\n",
       "<p>16190 rows × 7 columns</p>\n",
       "</div>"
      ],
      "text/plain": [
       "         open    high     low   close  volume       datetime  target\n",
       "0      428.63  428.63  428.59  428.59    1300  1637658060000  428.54\n",
       "1      428.54  428.54  428.54  428.54     100  1637658120000  428.41\n",
       "2      428.46  428.46  428.41  428.41     597  1637658240000  428.30\n",
       "3      428.34  428.34  428.30  428.30     300  1637658420000  428.32\n",
       "4      428.30  428.32  428.30  428.32     300  1637658480000  428.23\n",
       "...       ...     ...     ...     ...     ...            ...     ...\n",
       "16185  428.42  428.42  428.42  428.42     100  1641592440000  428.37\n",
       "16186  428.37  428.37  428.37  428.37     100  1641592560000  428.45\n",
       "16187  428.45  428.45  428.45  428.45     447  1641594120000  428.53\n",
       "16188  428.53  428.53  428.53  428.53     206  1641594480000  428.58\n",
       "16189  428.58  428.58  428.58  428.58     120  1641595980000     NaN\n",
       "\n",
       "[16190 rows x 7 columns]"
      ]
     },
     "execution_count": 6,
     "metadata": {},
     "output_type": "execute_result"
    }
   ],
   "source": [
    "data"
   ]
  },
  {
   "cell_type": "code",
   "execution_count": 7,
   "metadata": {},
   "outputs": [],
   "source": [
    "def preprocessing(df, price_offset = 1.000001, prediction = False, best_d_value = 1):\n",
    "    column_name = 'close'\n",
    "    ta = TechAnalysis(df)\n",
    "    \"\"\"\n",
    "    Imputes fractional differencing into data\n",
    "    \"\"\"\n",
    "    if prediction:\n",
    "        df = df[(len(df) - 65):]\n",
    "        df_fd, weights = ta.frac_diff(df[column_name], best_d_value)\n",
    "    else:\n",
    "        df = time_processing(df)\n",
    "        df_fd, weights, best_d_value = ta.fractional_difference(column_name, alpha=.05)\n",
    "       \n",
    "        \n",
    "    df['frac_diff_cost'] = np.nan\n",
    "    df['frac_diff_cost'].iloc[len(weights):] = df_fd[0]\n",
    "\n",
    "    \"\"\"\n",
    "    Create mass features\n",
    "    \"\"\"\n",
    "    steps = [5, 10, 20, 30, 40, 50]\n",
    "    macds = [[2,10],[5,10],[10,20],[10,30],[20,30]]\n",
    "    bbs_std = [1, 1.5, 2]\n",
    "\n",
    "    for step in steps:\n",
    "        df[f'ma_{step}'] = ta.moving_average(column_name, step)\n",
    "        df[f'ewa_{step}'] = ta.moving_average(column_name, step, simple=False)\n",
    "        df[f'rsi_{step}'] = ta.rsi(column_name, step)\n",
    "        for std in bbs_std:\n",
    "            df[f'bb_{step}_{std}_upper'],  df[f'bb_{step}_{std}_lower']= ta.bollinger_bands(column_name, step, std = std)\n",
    "\n",
    "\n",
    "    for macd in macds:\n",
    "        short, long = macd\n",
    "        df[f'rsi_{step}'] = ta.macd(column_name, short, long)\n",
    "\n",
    "    if not prediction:\n",
    "        df['target_classifier'] = 0\n",
    "        df['target_classifier'][df['target']>df['close']*price_offset] = 1\n",
    "        df.reset_index(inplace=True, drop=True)\n",
    "        df.drop(['datetime', 'target', 'open', 'high', 'low'], axis=1, inplace=True)\n",
    "    \n",
    "    df.dropna(inplace=True)\n",
    "    \n",
    "    return df, best_d_value"
   ]
  },
  {
   "cell_type": "code",
   "execution_count": 8,
   "metadata": {},
   "outputs": [],
   "source": [
    "data, best_d_value = preprocessing(data, price_offset = 1.000001, prediction = False)"
   ]
  },
  {
   "cell_type": "code",
   "execution_count": 10,
   "metadata": {},
   "outputs": [],
   "source": [
    "\"\"\"\n",
    "test/train/ver split\n",
    "\"\"\"\n",
    "train_size = round(.9*len(data))\n",
    "\n",
    "train = data[:train_size]\n",
    "test = data[train_size:]\n",
    "\n",
    "y_train = train.pop('target_classifier')\n",
    "X_train = train\n",
    "# X_train.drop('datetime', axis=1, inplace=True)\n",
    "\n",
    "y_test = test.pop('target_classifier')\n",
    "X_test = test"
   ]
  },
  {
   "cell_type": "code",
   "execution_count": 11,
   "metadata": {},
   "outputs": [
    {
     "name": "stdout",
     "output_type": "stream",
     "text": [
      "              Specs     Score\n",
      "23           rsi_20  5.272517\n",
      "50           rsi_50  4.246009\n",
      "2    frac_diff_cost  3.553181\n",
      "10     bb_5_2_upper  2.849324\n",
      "19    bb_10_2_upper  2.823238\n",
      "8    bb_5_1.5_upper  2.750887\n",
      "17  bb_10_1.5_upper  2.724885\n",
      "6      bb_5_1_upper  2.653967\n",
      "15    bb_10_1_upper  2.627751\n",
      "3              ma_5  2.464915\n"
     ]
    }
   ],
   "source": [
    "bestfeatures = SelectKBest(score_func=f_regression, k=10)\n",
    "fit = bestfeatures.fit(X_train,y_train)\n",
    "dfscores = pd.DataFrame(fit.scores_)\n",
    "dfcolumns = pd.DataFrame(X_train.columns)\n",
    "featureScores = pd.concat([dfcolumns, dfscores],axis=1)\n",
    "featureScores.columns = ['Specs','Score']  #naming the dataframe columns\n",
    "print(featureScores.nlargest(10,'Score'))  #print 10 best features"
   ]
  },
  {
   "cell_type": "code",
   "execution_count": 11,
   "metadata": {},
   "outputs": [],
   "source": [
    "# f_reg_largest = featureScores.nlargest(10,'Score')\n",
    "# X_train_filtered = X_train[X_train.columns[f_reg_largest.index]]\n",
    "# X_test_filtered = X_test[X_test.columns[f_reg_largest.index]]"
   ]
  },
  {
   "cell_type": "code",
   "execution_count": 12,
   "metadata": {},
   "outputs": [],
   "source": [
    "\"\"\"\n",
    "ML Pipeline\n",
    "with Verification\n",
    "\"\"\"\n",
    "# pipe = make_pipeline(SelectKBest(score_func=f_regression, k=10), GradientBoostingClassifier())\n",
    "# tscv = TimeSeriesSplit(n_splits=10)\n",
    "# parameters = {\n",
    "#     'gradientboostingclassifier__max_depth': range (2, 10, 1),\n",
    "#     'gradientboostingclassifier__n_estimators': range(60, 220, 40),\n",
    "#     'gradientboostingclassifier__learning_rate': [0.1, 0.01, 0.05]\n",
    "# }\n",
    "# clf = GridSearchCV(pipe, parameters, n_jobs=-1, cv=tscv, scoring = 'precision')\n",
    "# # clf = GridSearchCV(pipe, parameters, n_jobs=-1, cv=tscv, scoring = 'roc_auc')\n",
    "# clf.fit(X_train,y_train)\n",
    "# clf.best_params_\n",
    "\n",
    "# load\n",
    "with open('model/model.pkl', 'rb') as f:\n",
    "    clf = pickle.load(f)"
   ]
  },
  {
   "cell_type": "code",
   "execution_count": 13,
   "metadata": {},
   "outputs": [
    {
     "data": {
      "text/plain": [
       "0.533905676520757"
      ]
     },
     "execution_count": 13,
     "metadata": {},
     "output_type": "execute_result"
    }
   ],
   "source": [
    "clf.cv_results_\n",
    "clf.best_score_"
   ]
  },
  {
   "cell_type": "code",
   "execution_count": 14,
   "metadata": {},
   "outputs": [
    {
     "name": "stdout",
     "output_type": "stream",
     "text": [
      "0.6018641810918774 0.5201571221831713\n",
      "0.5416666666666666 0.5341191066997518\n"
     ]
    }
   ],
   "source": [
    "y_pred = clf.predict(X_train)\n",
    "print(precision_score(y_train, y_pred), accuracy_score(y_train, y_pred))\n",
    "\n",
    "y_pred = clf.predict(X_test)\n",
    "print(precision_score(y_test, y_pred), accuracy_score(y_test, y_pred))"
   ]
  },
  {
   "cell_type": "code",
   "execution_count": 15,
   "metadata": {},
   "outputs": [
    {
     "data": {
      "text/plain": [
       "'\\nTutorial of PaperTrader Class\\n'"
      ]
     },
     "execution_count": 15,
     "metadata": {},
     "output_type": "execute_result"
    }
   ],
   "source": [
    "\"\"\"\n",
    "Tutorial of PaperTrader Class\n",
    "\"\"\"\n",
    "# PT = PaperTrader(500)\n",
    "# key = PT.buy('MSFT', 100, 3)\n",
    "# print(PT.current_record())\n",
    "# print(PT.current_free_cash())\n",
    "# PT.sell(key, 102, 3)\n",
    "# print(pd.DataFrame(PT.current_record()))\n",
    "# print(PT.current_free_cash())"
   ]
  },
  {
   "cell_type": "code",
   "execution_count": 17,
   "metadata": {},
   "outputs": [
    {
     "name": "stdout",
     "output_type": "stream",
     "text": [
      "     key ticker  buy_price  buy_amount  buy_total_amount             buy_time  \\\n",
      "0      0    VOO   439.7100           1          439.7100  2022-01-10 03:24:36   \n",
      "1      1    VOO   439.3200           1          439.3200  2022-01-10 03:24:36   \n",
      "2      2    VOO   439.3314           1          439.3314  2022-01-10 03:24:36   \n",
      "3      3    VOO   438.9000           1          438.9000  2022-01-10 03:24:36   \n",
      "4      4    VOO   438.8000           1          438.8000  2022-01-10 03:24:36   \n",
      "..   ...    ...        ...         ...               ...                  ...   \n",
      "115  115    VOO   428.5600           1          428.5600  2022-01-10 03:24:36   \n",
      "116  116    VOO   428.5200           1          428.5200  2022-01-10 03:24:36   \n",
      "117  117    VOO   428.4300           1          428.4300  2022-01-10 03:24:36   \n",
      "118  118    VOO   428.4900           1          428.4900  2022-01-10 03:24:36   \n",
      "119  119    VOO   428.4100           1          428.4100  2022-01-10 03:24:36   \n",
      "\n",
      "     sell_price  sell_amount  sell_total_amount            sell_time   open  \\\n",
      "0      439.7800            1           439.7800  2022-01-10 03:24:36  False   \n",
      "1      439.3314            1           439.3314  2022-01-10 03:24:36  False   \n",
      "2      439.3500            1           439.3500  2022-01-10 03:24:36  False   \n",
      "3      438.8000            1           438.8000  2022-01-10 03:24:36  False   \n",
      "4      438.8200            1           438.8200  2022-01-10 03:24:36  False   \n",
      "..          ...          ...                ...                  ...    ...   \n",
      "115    428.5200            1           428.5200  2022-01-10 03:24:36  False   \n",
      "116    428.5000            1           428.5000  2022-01-10 03:24:36  False   \n",
      "117    428.5400            1           428.5400  2022-01-10 03:24:36  False   \n",
      "118    428.4100            1           428.4100  2022-01-10 03:24:36  False   \n",
      "119    428.4300            1           428.4300  2022-01-10 03:24:36  False   \n",
      "\n",
      "     profit/loss  \n",
      "0         0.0700  \n",
      "1         0.0114  \n",
      "2         0.0186  \n",
      "3        -0.1000  \n",
      "4         0.0200  \n",
      "..           ...  \n",
      "115      -0.0400  \n",
      "116      -0.0200  \n",
      "117       0.1100  \n",
      "118      -0.0800  \n",
      "119       0.0200  \n",
      "\n",
      "[120 rows x 12 columns]\n",
      "5002.4019\n"
     ]
    }
   ],
   "source": [
    "PT_test = PaperTrader(5000)\n",
    "X_test_temp = X_test['close'].reset_index()\n",
    "for i, pred in enumerate(y_pred):\n",
    "    if pred:\n",
    "        key = PT_test.buy('VOO', X_test_temp['close'][i], 1)\n",
    "        try:\n",
    "            PT_test.sell(key, X_test_temp['close'][i+1],1)\n",
    "        except:\n",
    "            pass\n",
    "print(pd.DataFrame(PT_test.current_record()))\n",
    "print(PT_test.current_free_cash())"
   ]
  },
  {
   "cell_type": "code",
   "execution_count": 22,
   "metadata": {},
   "outputs": [],
   "source": [
    "# save\n",
    "# with open('model/model.pkl','wb') as f:\n",
    "#     pickle.dump(clf,f)"
   ]
  },
  {
   "cell_type": "code",
   "execution_count": null,
   "metadata": {},
   "outputs": [],
   "source": [
    "pred_data, _ = preprocessing(data, price_offset = 1.000001, prediction = True, best_d_value = best_d_value)"
   ]
  }
 ],
 "metadata": {
  "interpreter": {
   "hash": "319c24ade14b7873a3f936c1569cf8c1853592b8350107cb8f60c9b2a2771b37"
  },
  "kernelspec": {
   "display_name": "Python 3",
   "language": "python",
   "name": "python3"
  },
  "language_info": {
   "codemirror_mode": {
    "name": "ipython",
    "version": 3
   },
   "file_extension": ".py",
   "mimetype": "text/x-python",
   "name": "python",
   "nbconvert_exporter": "python",
   "pygments_lexer": "ipython3",
   "version": "3.7.7"
  }
 },
 "nbformat": 4,
 "nbformat_minor": 4
}
