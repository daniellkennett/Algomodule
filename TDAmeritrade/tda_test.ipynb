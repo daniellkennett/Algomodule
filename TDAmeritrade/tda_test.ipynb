{
 "cells": [
  {
   "cell_type": "code",
   "execution_count": 1,
   "metadata": {},
   "outputs": [],
   "source": [
    "import pandas as pd\n",
    "import numpy as np\n",
    "import requests\n",
    "import json\n",
    "import urllib\n",
    "import httpx\n",
    "from datetime import datetime\n",
    "\n",
    "import sys\n",
    "sys.path.append('../')\n",
    "from config.tda.config import CONSUMER_KEY, REDIRECT_URI, JSON_PATH\n",
    "from src.PaperTrader import PaperTrader\n",
    "from src.TechAnalysis import TechAnalysis\n",
    "\n",
    "from tda import auth, client\n",
    "from tda.auth import easy_client\n",
    "from tda.client import Client\n",
    "\n",
    "token_path = JSON_PATH\n",
    "api_key = CONSUMER_KEY\n",
    "redirect_uri = REDIRECT_URI\n",
    "\n",
    "from sklearn.preprocessing import StandardScaler\n",
    "from sklearn.pipeline import make_pipeline\n",
    "from sklearn.ensemble import GradientBoostingRegressor, GradientBoostingClassifier\n",
    "from sklearn.linear_model import LinearRegression\n",
    "from sklearn.feature_selection import f_regression, SelectKBest\n",
    "from sklearn.model_selection import TimeSeriesSplit, GridSearchCV\n",
    "from sklearn.metrics import mean_squared_error, accuracy_score, precision_score"
   ]
  },
  {
   "cell_type": "code",
   "execution_count": 2,
   "metadata": {},
   "outputs": [],
   "source": [
    "\"\"\"\n",
    "Login to TDAMERITRADE\n",
    "\"\"\"\n",
    "\n",
    "try:\n",
    "    c = auth.client_from_token_file(token_path, api_key)\n",
    "except:\n",
    "    from selenium import webdriver\n",
    "    with webdriver.Chrome('/home/daniel/chromedriver') as driver:\n",
    "        c = auth.client_from_login_flow(\n",
    "            driver, api_key, redirect_uri, token_path)"
   ]
  },
  {
   "cell_type": "code",
   "execution_count": 3,
   "metadata": {},
   "outputs": [],
   "source": [
    "\"\"\"\n",
    "Login/pull data from TDAMERTIRADE\n",
    "\"\"\"\n",
    "\n",
    "stock_ticker = 'VOO'\n",
    "\n",
    "c = easy_client(\n",
    "        api_key=api_key,\n",
    "        redirect_uri=REDIRECT_URI,\n",
    "        token_path=JSON_PATH)\n",
    "\n",
    "resp = c.get_price_history(stock_ticker,\n",
    "        period_type=Client.PriceHistory.PeriodType.YEAR,\n",
    "        period=Client.PriceHistory.Period.TWENTY_YEARS,\n",
    "        frequency_type=Client.PriceHistory.FrequencyType.DAILY,\n",
    "        frequency=Client.PriceHistory.Frequency.DAILY)\n",
    "assert resp.status_code == httpx.codes.OK\n",
    "\n",
    "data = pd.DataFrame(c.get_price_history_every_minute(stock_ticker).json()['candles'])\n",
    "data['target'] = data['close'].shift(-1)"
   ]
  },
  {
   "cell_type": "code",
   "execution_count": 4,
   "metadata": {},
   "outputs": [],
   "source": [
    "\"\"\"\n",
    "Time function\n",
    "\"\"\"\n",
    "def time_processing(df):\n",
    "    dt = np.array(df['datetime'].values)/1000\n",
    "    func = lambda x: datetime.fromtimestamp(x)\n",
    "    funcvec = np.vectorize(func)\n",
    "    dt = funcvec(dt)\n",
    "    df['datetime'] = dt\n",
    "    return df\n",
    "\n",
    "data = time_processing(data)"
   ]
  },
  {
   "cell_type": "code",
   "execution_count": 5,
   "metadata": {},
   "outputs": [
    {
     "name": "stdout",
     "output_type": "stream",
     "text": [
      "         open    high     low   close  volume            datetime  target\n",
      "0      429.33  429.33  429.33  429.33     200 2021-11-16 04:11:00  429.54\n",
      "1      429.54  429.54  429.54  429.54     100 2021-11-16 04:56:00  429.28\n",
      "2      429.28  429.28  429.28  429.28     300 2021-11-16 05:33:00  429.29\n",
      "3      429.27  429.29  429.27  429.29     200 2021-11-16 06:00:00  429.29\n",
      "4      429.29  429.29  429.29  429.29     100 2021-11-16 06:04:00  429.29\n",
      "...       ...     ...     ...     ...     ...                 ...     ...\n",
      "16069  436.76  436.76  436.76  436.76     572 2021-12-31 16:59:00  437.17\n",
      "16070  437.17  437.17  437.17  437.17     113 2021-12-31 17:18:00  437.07\n",
      "16071  437.07  437.07  437.07  437.07     100 2021-12-31 17:51:00  437.06\n",
      "16072  437.06  437.06  437.06  437.06     475 2021-12-31 18:02:00  437.05\n",
      "16073  437.05  437.05  437.05  437.05     600 2021-12-31 18:04:00     NaN\n",
      "\n",
      "[16074 rows x 7 columns]\n"
     ]
    }
   ],
   "source": [
    "\"\"\"\n",
    "TechAnalysis tutorial\n",
    "\"\"\"\n",
    "column_name = 'close'\n",
    "ta = TechAnalysis(data)\n",
    "# data['ma'] = ta.moving_average(column_name, 5)\n",
    "# data['rsi'] = ta.rsi(column_name, 10)\n",
    "# data['macd'] = ta.macd(column_name, 10, 30)\n",
    "# data['upper'], data['lower'] = ta.bollinger_bands(column_name, 10)\n",
    "# ta.fib_retracement()\n",
    "print(data)"
   ]
  },
  {
   "cell_type": "code",
   "execution_count": 30,
   "metadata": {},
   "outputs": [
    {
     "name": "stderr",
     "output_type": "stream",
     "text": [
      "/home/daniel/anaconda3/lib/python3.7/site-packages/ipykernel_launcher.py:29: SettingWithCopyWarning: \n",
      "A value is trying to be set on a copy of a slice from a DataFrame\n",
      "\n",
      "See the caveats in the documentation: https://pandas.pydata.org/pandas-docs/stable/user_guide/indexing.html#returning-a-view-versus-a-copy\n"
     ]
    }
   ],
   "source": [
    "\"\"\"\n",
    "Create mass features\n",
    "\"\"\"\n",
    "\n",
    "data = pd.DataFrame(c.get_price_history_every_minute(stock_ticker).json()['candles'])\n",
    "data['target'] = data['close'].shift(-1)\n",
    "column_name = 'close'\n",
    "ta = TechAnalysis(data)\n",
    "price_offset=1.0001\n",
    "\n",
    "steps = [5, 10, 20, 30, 40, 50]\n",
    "macds = [[2,10],[5,10],[10,20],[10,30],[20,30]]\n",
    "bbs_std = [1, 1.5, 2]\n",
    "\n",
    "for step in steps:\n",
    "    data[f'ma_{step}'] = ta.moving_average(column_name, step)\n",
    "    data[f'ewa_{step}'] = ta.moving_average(column_name, step, simple=False)\n",
    "    data[f'rsi_{step}'] = ta.rsi(column_name, step)\n",
    "    for std in bbs_std:\n",
    "        data[f'bb_{step}_{std}_upper'],  data[f'bb_{step}_{std}_lower']= ta.bollinger_bands(column_name, step, std = std)\n",
    "\n",
    "\n",
    "for macd in macds:\n",
    "    short, long = macd\n",
    "    data[f'rsi_{step}'] = ta.macd(column_name, short, long)\n",
    "\n",
    "data = time_processing(data)\n",
    "data['target_classifier'] = 0\n",
    "data['target_classifier'][data['target']>data['close']*price_offset] = 1\n",
    "data.reset_index(inplace=True, drop=True)\n",
    "data.drop(['datetime','target'], axis=1, inplace=True)\n",
    "data.dropna(inplace=True)\n",
    "# data[['close', 'target','target_classifier']]"
   ]
  },
  {
   "cell_type": "code",
   "execution_count": 31,
   "metadata": {},
   "outputs": [
    {
     "data": {
      "text/plain": [
       "5462"
      ]
     },
     "execution_count": 31,
     "metadata": {},
     "output_type": "execute_result"
    }
   ],
   "source": [
    "data['target_classifier'].sum()"
   ]
  },
  {
   "cell_type": "code",
   "execution_count": 32,
   "metadata": {},
   "outputs": [],
   "source": [
    "# data[['close','target','target_classifier']]"
   ]
  },
  {
   "cell_type": "code",
   "execution_count": null,
   "metadata": {},
   "outputs": [],
   "source": []
  },
  {
   "cell_type": "code",
   "execution_count": 33,
   "metadata": {},
   "outputs": [],
   "source": [
    "\"\"\"\n",
    "test/train/ver split\n",
    "\"\"\"\n",
    "\n",
    "\n",
    "train_size = round(.9*len(data))\n",
    "\n",
    "train = data[:train_size]\n",
    "test = data[train_size:]\n",
    "\n",
    "y_train = train.pop('target_classifier')\n",
    "X_train = train\n",
    "# X_train.drop('datetime', axis=1, inplace=True)\n",
    "\n",
    "y_test = test.pop('target_classifier')\n",
    "X_test = test\n"
   ]
  },
  {
   "cell_type": "code",
   "execution_count": 34,
   "metadata": {},
   "outputs": [
    {
     "name": "stdout",
     "output_type": "stream",
     "text": [
      "              Specs       Score\n",
      "31    bb_20_2_lower  134.858700\n",
      "40    bb_30_2_lower  133.960627\n",
      "49    bb_40_2_lower  133.701332\n",
      "29  bb_20_1.5_lower  132.779300\n",
      "22    bb_10_2_lower  131.991780\n",
      "58    bb_50_2_lower  131.769967\n",
      "38  bb_30_1.5_lower  131.349503\n",
      "20  bb_10_1.5_lower  131.036227\n",
      "47  bb_40_1.5_lower  130.613368\n",
      "27    bb_20_1_lower  130.526850\n"
     ]
    }
   ],
   "source": [
    "bestfeatures = SelectKBest(score_func=f_regression, k=10)\n",
    "fit = bestfeatures.fit(X_train,y_train)\n",
    "dfscores = pd.DataFrame(fit.scores_)\n",
    "dfcolumns = pd.DataFrame(X_train.columns)\n",
    "featureScores = pd.concat([dfcolumns, dfscores],axis=1)\n",
    "featureScores.columns = ['Specs','Score']  #naming the dataframe columns\n",
    "print(featureScores.nlargest(10,'Score'))  #print 10 best features"
   ]
  },
  {
   "cell_type": "code",
   "execution_count": 35,
   "metadata": {},
   "outputs": [],
   "source": [
    "f_reg_largest = featureScores.nlargest(10,'Score')\n",
    "X_train_filtered = X_train[X_train.columns[f_reg_largest.index]]\n",
    "X_test_filtered = X_test[X_test.columns[f_reg_largest.index]]"
   ]
  },
  {
   "cell_type": "code",
   "execution_count": 36,
   "metadata": {},
   "outputs": [
    {
     "data": {
      "text/plain": [
       "{}"
      ]
     },
     "execution_count": 36,
     "metadata": {},
     "output_type": "execute_result"
    }
   ],
   "source": [
    "tscv = TimeSeriesSplit(n_splits=2)\n",
    "\n",
    "parameters = {}\n",
    "# gbr = GradientBoostingRegressor()\n",
    "# lr = LinearRegression()\n",
    "gbc = GradientBoostingClassifier()\n",
    "clf = GridSearchCV(gbc, parameters, n_jobs=-1, cv=tscv)\n",
    "clf.fit(X_train_filtered,y_train)\n",
    "clf.best_params_"
   ]
  },
  {
   "cell_type": "code",
   "execution_count": 37,
   "metadata": {},
   "outputs": [
    {
     "data": {
      "text/plain": [
       "0.6261701685042647"
      ]
     },
     "execution_count": 37,
     "metadata": {},
     "output_type": "execute_result"
    }
   ],
   "source": [
    "clf.cv_results_\n",
    "clf.best_score_"
   ]
  },
  {
   "cell_type": "code",
   "execution_count": 38,
   "metadata": {},
   "outputs": [
    {
     "name": "stdout",
     "output_type": "stream",
     "text": [
      "0.9285714285714286\n",
      "0.16666666666666666\n"
     ]
    }
   ],
   "source": [
    "y_pred = clf.predict(X_train_filtered)\n",
    "print(precision_score(y_train, y_pred))\n",
    "\n",
    "y_pred = clf.predict(X_test_filtered)\n",
    "print(precision_score(y_test, y_pred))\n"
   ]
  },
  {
   "cell_type": "code",
   "execution_count": 39,
   "metadata": {},
   "outputs": [
    {
     "data": {
      "text/plain": [
       "'\\nTutorial of PaperTrader Class\\n'"
      ]
     },
     "execution_count": 39,
     "metadata": {},
     "output_type": "execute_result"
    }
   ],
   "source": [
    "\"\"\"\n",
    "Tutorial of PaperTrader Class\n",
    "\"\"\"\n",
    "# PT = PaperTrader(500)\n",
    "# key = PT.buy('MSFT', 100, 3)\n",
    "# print(PT.current_record())\n",
    "# print(PT.current_free_cash())\n",
    "# PT.sell(key, 102, 3)\n",
    "# print(pd.DataFrame(PT.current_record()))\n",
    "# print(PT.current_free_cash())\n",
    "        "
   ]
  },
  {
   "cell_type": "code",
   "execution_count": 40,
   "metadata": {},
   "outputs": [
    {
     "name": "stdout",
     "output_type": "stream",
     "text": [
      "           open    high      low    close  volume     ma_5       ewa_5  \\\n",
      "14472  438.3400  438.43  438.320  438.415    8413  438.228  438.365209   \n",
      "14473  438.3801  438.41  438.318  438.380    8115  438.265  438.375070   \n",
      "14474  438.3500  438.47  438.328  438.470    9453  438.351  438.438357   \n",
      "14475  438.4500  438.46  438.390  438.400    6054  438.399  438.412786   \n",
      "14476  438.4100  438.41  438.250  438.280    7681  438.389  438.324262   \n",
      "\n",
      "           rsi_5  bb_5_1_upper  bb_5_1_lower  ...  bb_40_2_lower       ma_50  \\\n",
      "14472  67.567568    438.374995    438.081005  ...     438.044835  438.219464   \n",
      "14473  66.371681    438.424374    438.105626  ...     438.074025  438.229664   \n",
      "14474  93.000000    438.469343    438.232657  ...     438.077347  438.239302   \n",
      "14475  76.666667    438.450039    438.347961  ...     438.084665  438.248502   \n",
      "14476  43.750000    438.458498    438.319502  ...     438.094047  438.256902   \n",
      "\n",
      "           ewa_50    rsi_50  bb_50_1_upper  bb_50_1_lower  bb_50_1.5_upper  \\\n",
      "14472  438.365209  0.030907     438.416969     438.021959       438.515722   \n",
      "14473  438.375070  0.037240     438.421851     438.037477       438.517944   \n",
      "14474  438.438357  0.038740     438.431210     438.047394       438.527165   \n",
      "14475  438.412786  0.041533     438.436761     438.060243       438.530890   \n",
      "14476  438.324262  0.038867     438.436650     438.077154       438.526524   \n",
      "\n",
      "       bb_50_1.5_lower  bb_50_2_upper  bb_50_2_lower  \n",
      "14472       437.923206     438.614474     437.824454  \n",
      "14473       437.941384     438.614037     437.845291  \n",
      "14474       437.951439     438.623119     437.855485  \n",
      "14475       437.966114     438.625019     437.871985  \n",
      "14476       437.987280     438.616397     437.897407  \n",
      "\n",
      "[5 rows x 59 columns]\n",
      "   index    close\n",
      "0  14472  438.415\n",
      "1  14473  438.380\n",
      "2  14474  438.470\n",
      "3  14475  438.400\n",
      "4  14476  438.280\n",
      "[0 0 0 0 0 0 0 0 0 0]\n"
     ]
    }
   ],
   "source": [
    "print(X_test.head())\n",
    "print(X_test_temp.head())\n",
    "print(y_pred[:10])"
   ]
  },
  {
   "cell_type": "code",
   "execution_count": 41,
   "metadata": {},
   "outputs": [
    {
     "name": "stdout",
     "output_type": "stream",
     "text": [
      "   key ticker  buy_price  buy_amount  buy_total_amount             buy_time  \\\n",
      "0    0    VOO    437.720           1           437.720  2022-01-03 02:26:11   \n",
      "1    1    VOO    439.060           1           439.060  2022-01-03 02:26:11   \n",
      "2    2    VOO    439.000           1           439.000  2022-01-03 02:26:11   \n",
      "3    3    VOO    439.020           1           439.020  2022-01-03 02:26:11   \n",
      "4    4    VOO    438.855           1           438.855  2022-01-03 02:26:11   \n",
      "5    5    VOO    438.860           1           438.860  2022-01-03 02:26:11   \n",
      "\n",
      "   sell_price  sell_amount  sell_total_amount            sell_time   open  \\\n",
      "0      437.57            1             437.57  2022-01-03 02:26:11  False   \n",
      "1      439.00            1             439.00  2022-01-03 02:26:11  False   \n",
      "2      439.02            1             439.02  2022-01-03 02:26:11  False   \n",
      "3      439.09            1             439.09  2022-01-03 02:26:11  False   \n",
      "4      438.86            1             438.86  2022-01-03 02:26:11  False   \n",
      "5      438.75            1             438.75  2022-01-03 02:26:11  False   \n",
      "\n",
      "   profit/loss  \n",
      "0       -0.150  \n",
      "1       -0.060  \n",
      "2        0.020  \n",
      "3        0.070  \n",
      "4        0.005  \n",
      "5       -0.110  \n",
      "4999.775\n"
     ]
    }
   ],
   "source": [
    "PT_test = PaperTrader(5000)\n",
    "X_test_temp = X_test['close'].reset_index()\n",
    "for i, pred in enumerate(y_pred):\n",
    "    if pred:\n",
    "        key = PT_test.buy('VOO', X_test_temp['close'][i], 1)\n",
    "        try:\n",
    "            PT_test.sell(key, X_test_temp['close'][i+1],1)\n",
    "        except:\n",
    "            pass\n",
    "print(pd.DataFrame(PT_test.current_record()))\n",
    "print(PT_test.current_free_cash())"
   ]
  },
  {
   "cell_type": "code",
   "execution_count": null,
   "metadata": {},
   "outputs": [],
   "source": [
    "X_test_temp"
   ]
  }
 ],
 "metadata": {
  "interpreter": {
   "hash": "319c24ade14b7873a3f936c1569cf8c1853592b8350107cb8f60c9b2a2771b37"
  },
  "kernelspec": {
   "display_name": "Python 3",
   "language": "python",
   "name": "python3"
  },
  "language_info": {
   "codemirror_mode": {
    "name": "ipython",
    "version": 3
   },
   "file_extension": ".py",
   "mimetype": "text/x-python",
   "name": "python",
   "nbconvert_exporter": "python",
   "pygments_lexer": "ipython3",
   "version": "3.7.7"
  }
 },
 "nbformat": 4,
 "nbformat_minor": 4
}
