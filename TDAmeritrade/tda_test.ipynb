{
 "cells": [
  {
   "cell_type": "code",
   "execution_count": 1,
   "metadata": {},
   "outputs": [],
   "source": [
    "import pandas as pd\n",
    "pd.options.mode.chained_assignment = None\n",
    "import numpy as np\n",
    "import requests\n",
    "import json\n",
    "import urllib\n",
    "import httpx\n",
    "from datetime import datetime\n",
    "from time import sleep\n",
    "\n",
    "import sys\n",
    "sys.path.append('../')\n",
    "from config.tda.config import JSON_PATH, CONSUMER_KEY, REDIRECT_URI, WEBDRIVER, tda_login\n",
    "from src.PaperTrader import PaperTrader\n",
    "from src.TechAnalysis import TechAnalysis\n",
    "\n",
    "from tda import auth, client, orders\n",
    "from tda.auth import easy_client\n",
    "from tda.client import Client\n",
    "\n",
    "from sklearn.pipeline import make_pipeline\n",
    "from sklearn.ensemble import GradientBoostingRegressor, GradientBoostingClassifier\n",
    "from sklearn.linear_model import LinearRegression\n",
    "from sklearn.feature_selection import f_regression, SelectKBest\n",
    "from sklearn.model_selection import TimeSeriesSplit, GridSearchCV\n",
    "from sklearn.metrics import mean_squared_error, accuracy_score, precision_score\n",
    "from xgboost import XGBClassifier\n",
    "import pickle\n",
    "\n",
    "\n",
    "account_id = 455003338"
   ]
  },
  {
   "cell_type": "code",
   "execution_count": 3,
   "metadata": {},
   "outputs": [],
   "source": [
    "\"\"\"\n",
    "Login to TDAMERITRADE\n",
    "\"\"\"\n",
    "c = tda_login(JSON_PATH, CONSUMER_KEY, REDIRECT_URI, WEBDRIVER)"
   ]
  },
  {
   "cell_type": "code",
   "execution_count": 5,
   "metadata": {},
   "outputs": [],
   "source": [
    "\"\"\"\n",
    "Login/pull data from TDAMERTIRADE\n",
    "\"\"\"\n",
    "stock_ticker = 'VOO'\n",
    "\n",
    "data = pd.DataFrame(c.get_price_history_every_minute(stock_ticker).json()['candles'])\n",
    "data['target'] = data['close'].shift(-1)"
   ]
  },
  {
   "cell_type": "code",
   "execution_count": 6,
   "metadata": {},
   "outputs": [],
   "source": [
    "def time_processing(df):\n",
    "    \"\"\"\n",
    "    Time function for TDA data\n",
    "    \"\"\"\n",
    "    dt = np.array(df['datetime'].values)/1000\n",
    "    func = lambda x: datetime.fromtimestamp(x)\n",
    "    funcvec = np.vectorize(func)\n",
    "    dt = funcvec(dt)\n",
    "    return dt"
   ]
  },
  {
   "cell_type": "markdown",
   "metadata": {},
   "source": [
    "Weights formula:  \n",
    "$w_k = -w_{k-1} \\frac{d - k + 1}{k}$\n",
    "\n",
    "Weight converges to zero: \n",
    "$w_k \\rightarrow 0$"
   ]
  },
  {
   "cell_type": "code",
   "execution_count": 7,
   "metadata": {},
   "outputs": [],
   "source": [
    "\"\"\"\n",
    "TechAnalysis tutorial\n",
    "\"\"\"\n",
    "column_name = 'close'\n",
    "ta = TechAnalysis(data)\n",
    "# data['ma'] = ta.moving_average(column_name, 5)\n",
    "# data['rsi'] = ta.rsi(column_name, 10)\n",
    "# data['macd'] = ta.macd(column_name, 10, 30)\n",
    "# data['upper'], data['lower'] = ta.bollinger_bands(column_name, 10)\n",
    "# ta.fib_retracement()"
   ]
  },
  {
   "cell_type": "code",
   "execution_count": 8,
   "metadata": {},
   "outputs": [],
   "source": [
    "def preprocessing(df, price_offset = 1.000001, prediction = False, best_d_value = 1, len_of_original_weights = 64):\n",
    "    column_name = 'close'\n",
    "    ta = TechAnalysis(df)\n",
    "    \"\"\"\n",
    "    Imputes fractional differencing into data\n",
    "    \"\"\"\n",
    "    if prediction:\n",
    "        df = df[(len(df) - (len_of_original_weights+1)):]\n",
    "        df_fd, weights = ta.frac_diff(df[column_name], best_d_value)        \n",
    "    else:\n",
    "        \n",
    "        df_fd, weights, best_d_value = ta.fractional_difference(column_name, alpha=.05)\n",
    "       \n",
    "    df['datetime'] = time_processing(df)    \n",
    "    df['frac_diff_cost'] = np.nan\n",
    "    df['frac_diff_cost'].iloc[len(weights):] = df_fd[0]\n",
    "\n",
    "    \"\"\"\n",
    "    Create mass features\n",
    "    \"\"\"\n",
    "    steps = [5, 10, 20, 30, 40, 50]\n",
    "    macds = [[2,10],[5,10],[10,20],[10,30],[20,30]]\n",
    "    bbs_std = [1, 1.5, 2]\n",
    "\n",
    "    for step in steps:\n",
    "        df[f'ma_{step}'] = ta.moving_average(column_name, step)\n",
    "        df[f'ewa_{step}'] = ta.moving_average(column_name, step, simple=False)\n",
    "        df[f'rsi_{step}'] = ta.rsi(column_name, step)\n",
    "        for std in bbs_std:\n",
    "            df[f'bb_{step}_{std}_upper'],  df[f'bb_{step}_{std}_lower']= ta.bollinger_bands(column_name, step, std = std)\n",
    "\n",
    "\n",
    "    for macd in macds:\n",
    "        short, long = macd\n",
    "        df[f'rsi_{step}'] = ta.macd(column_name, short, long)\n",
    "\n",
    "    if not prediction:\n",
    "        df['target_classifier'] = 0\n",
    "        df['target_classifier'][df['target']>df['close']*price_offset] = 1\n",
    "        df.reset_index(inplace=True, drop=True)\n",
    "        df.drop(['target'], axis=1, inplace=True)\n",
    "        \n",
    "    df.drop(['datetime', 'open', 'high', 'low'], axis=1, inplace=True)\n",
    "    df.dropna(inplace=True)\n",
    "    \n",
    "    return df, best_d_value, weights"
   ]
  },
  {
   "cell_type": "code",
   "execution_count": 9,
   "metadata": {},
   "outputs": [],
   "source": [
    "data, best_d_value, weights = preprocessing(data, price_offset = 1.000001)"
   ]
  },
  {
   "cell_type": "code",
   "execution_count": 10,
   "metadata": {},
   "outputs": [],
   "source": [
    "\"\"\"\n",
    "test/train/ver split\n",
    "\"\"\"\n",
    "train_size = round(.9*len(data))\n",
    "\n",
    "train = data[:train_size]\n",
    "test = data[train_size:]\n",
    "\n",
    "y_train = train.pop('target_classifier')\n",
    "X_train = train\n",
    "# X_train.drop('datetime', axis=1, inplace=True)\n",
    "\n",
    "y_test = test.pop('target_classifier')\n",
    "X_test = test"
   ]
  },
  {
   "cell_type": "code",
   "execution_count": 11,
   "metadata": {},
   "outputs": [
    {
     "name": "stdout",
     "output_type": "stream",
     "text": [
      "              Specs     Score\n",
      "2    frac_diff_cost  5.160720\n",
      "19    bb_10_2_upper  4.867168\n",
      "10     bb_5_2_upper  4.799773\n",
      "17  bb_10_1.5_upper  4.794945\n",
      "8    bb_5_1.5_upper  4.741877\n",
      "15    bb_10_1_upper  4.722266\n",
      "6      bb_5_1_upper  4.683720\n",
      "56    bb_50_2_lower  4.629668\n",
      "54  bb_50_1.5_lower  4.607333\n",
      "52    bb_50_1_lower  4.580221\n"
     ]
    }
   ],
   "source": [
    "bestfeatures = SelectKBest(score_func=f_regression, k=10)\n",
    "fit = bestfeatures.fit(X_train,y_train)\n",
    "dfscores = pd.DataFrame(fit.scores_)\n",
    "dfcolumns = pd.DataFrame(X_train.columns)\n",
    "featureScores = pd.concat([dfcolumns, dfscores],axis=1)\n",
    "featureScores.columns = ['Specs','Score']  #naming the dataframe columns\n",
    "print(featureScores.nlargest(10,'Score'))  #print 10 best features"
   ]
  },
  {
   "cell_type": "code",
   "execution_count": 12,
   "metadata": {},
   "outputs": [
    {
     "data": {
      "text/plain": [
       "{'gradientboostingclassifier__learning_rate': 0.01,\n",
       " 'gradientboostingclassifier__max_depth': 2,\n",
       " 'gradientboostingclassifier__n_estimators': 60}"
      ]
     },
     "execution_count": 12,
     "metadata": {},
     "output_type": "execute_result"
    }
   ],
   "source": [
    "\"\"\"\n",
    "ML Pipeline\n",
    "with Verification\n",
    "\"\"\"\n",
    "pipe = make_pipeline(SelectKBest(score_func=f_regression, k=10), GradientBoostingClassifier())\n",
    "tscv = TimeSeriesSplit(n_splits=10)\n",
    "parameters = {\n",
    "    'gradientboostingclassifier__max_depth': range (2, 10, 1),\n",
    "    'gradientboostingclassifier__n_estimators': range(60, 220, 40),\n",
    "    'gradientboostingclassifier__learning_rate': [0.1, 0.01, 0.05]\n",
    "}\n",
    "clf = GridSearchCV(pipe, parameters, n_jobs=-1, cv=tscv, scoring = 'precision')\n",
    "# clf = GridSearchCV(pipe, parameters, n_jobs=-1, cv=tscv, scoring = 'roc_auc')\n",
    "clf.fit(X_train,y_train)\n",
    "clf.best_params_\n",
    "\n",
    "# load\n",
    "# with open('model/model.pkl', 'rb') as f:\n",
    "#     clf = pickle.load(f)\n",
    "    \n"
   ]
  },
  {
   "cell_type": "code",
   "execution_count": null,
   "metadata": {},
   "outputs": [],
   "source": [
    "# save\n",
    "# with open('model/model.pkl','wb') as f:\n",
    "#     pickle.dump(clf,f)"
   ]
  },
  {
   "cell_type": "code",
   "execution_count": 13,
   "metadata": {},
   "outputs": [
    {
     "data": {
      "text/plain": [
       "0.5313597724097894"
      ]
     },
     "execution_count": 13,
     "metadata": {},
     "output_type": "execute_result"
    }
   ],
   "source": [
    "clf.cv_results_\n",
    "clf.best_score_"
   ]
  },
  {
   "cell_type": "code",
   "execution_count": 14,
   "metadata": {},
   "outputs": [
    {
     "name": "stdout",
     "output_type": "stream",
     "text": [
      "0.8090909090909091 0.5159103486441616\n",
      "0.6666666666666666 0.5211706102117061\n"
     ]
    }
   ],
   "source": [
    "y_pred = clf.predict(X_train)\n",
    "print(precision_score(y_train, y_pred), accuracy_score(y_train, y_pred))\n",
    "\n",
    "y_pred = clf.predict(X_test)\n",
    "print(precision_score(y_test, y_pred), accuracy_score(y_test, y_pred))"
   ]
  },
  {
   "cell_type": "code",
   "execution_count": 15,
   "metadata": {},
   "outputs": [
    {
     "data": {
      "text/plain": [
       "'\\nTutorial of PaperTrader Class\\n'"
      ]
     },
     "execution_count": 15,
     "metadata": {},
     "output_type": "execute_result"
    }
   ],
   "source": [
    "\"\"\"\n",
    "Tutorial of PaperTrader Class\n",
    "\"\"\"\n",
    "# PT = PaperTrader(500)\n",
    "# key = PT.buy('MSFT', 100, 3)\n",
    "# print(PT.current_record())\n",
    "# print(PT.current_free_cash())\n",
    "# PT.sell(key, 102, 3)\n",
    "# print(pd.DataFrame(PT.current_record()))\n",
    "# print(PT.current_free_cash())"
   ]
  },
  {
   "cell_type": "code",
   "execution_count": 16,
   "metadata": {},
   "outputs": [
    {
     "name": "stdout",
     "output_type": "stream",
     "text": [
      "   key ticker  buy_price  buy_amount  buy_total_amount             buy_time  \\\n",
      "0    0    VOO     430.91           1            430.91  2022-01-17 15:53:06   \n",
      "1    1    VOO     431.24           1            431.24  2022-01-17 15:53:06   \n",
      "2    2    VOO     430.87           1            430.87  2022-01-17 15:53:06   \n",
      "\n",
      "   sell_price  sell_amount  sell_total_amount            sell_time   open  \\\n",
      "0     431.155            1            431.155  2022-01-17 15:53:06  False   \n",
      "1     431.205            1            431.205  2022-01-17 15:53:06  False   \n",
      "2     430.950            1            430.950  2022-01-17 15:53:06  False   \n",
      "\n",
      "   profit/loss  \n",
      "0        0.245  \n",
      "1       -0.035  \n",
      "2        0.080  \n",
      "5000.29\n"
     ]
    }
   ],
   "source": [
    "PT_test = PaperTrader(5000)\n",
    "X_test_temp = X_test['close'].reset_index()\n",
    "for i, pred in enumerate(y_pred):\n",
    "    if pred:\n",
    "        key = PT_test.buy('VOO', X_test_temp['close'][i], 1)\n",
    "        try:\n",
    "            PT_test.sell(key, X_test_temp['close'][i+1],1)\n",
    "        except:\n",
    "            pass\n",
    "print(pd.DataFrame(PT_test.current_record()))\n",
    "print(PT_test.current_free_cash())"
   ]
  },
  {
   "cell_type": "code",
   "execution_count": 17,
   "metadata": {},
   "outputs": [],
   "source": [
    "data_test = pd.DataFrame(c.get_price_history_every_minute(stock_ticker).json()['candles'])\n",
    "pred_data, _, _ = preprocessing(data_test, price_offset = 1.000001, prediction = True, best_d_value = best_d_value, len_of_original_weights = len(weights))"
   ]
  },
  {
   "cell_type": "code",
   "execution_count": 18,
   "metadata": {},
   "outputs": [],
   "source": [
    "def second_check(start):\n",
    "    \"\"\"\n",
    "    Checks time for efficient pulls\n",
    "    \"\"\"\n",
    "    later = datetime.now().minute\n",
    "    if start == later:\n",
    "        return False\n",
    "    return True\n",
    "\n",
    "\n",
    "def main():\n",
    "    while True:\n",
    "        start = datetime.now().minute\n",
    "        sleep(5)\n",
    "        new_second = second_check(start)\n",
    "\n",
    "        if new_second:\n",
    "            data_test = pd.DataFrame(c.get_price_history_every_minute(stock_ticker).json()['candles'])\n",
    "            times = time_processing(data_test)\n",
    "            pred_data, _, _ = preprocessing(data_test, price_offset = 1.000001, prediction = True, best_d_value = best_d_value, len_of_original_weights = len(weights))\n",
    "            print(clf.predict(pred_data), times[-1])\n",
    "\n",
    "def AI_trade(buy_signal: bool):\n",
    "    \"\"\"\n",
    "    Buy and sell accoring to AI buy signal\n",
    "    \"\"\"\n",
    "    if buy_signal:\n",
    "        stock = 'VOO'\n",
    "        buy_count = 1\n",
    "        \"\"\" buy and sell 1 min later \"\"\"\n",
    "        c.place_order(account_id, \n",
    "            tda.orders.equities.equity_buy_market(stock, buy_count))\n",
    "        sleep(60)\n",
    "        c.place_order(account_id, \n",
    "            tda.orders.equities.equity_sell_market(stock, buy_count))\n",
    "        \n",
    "        \n"
   ]
  },
  {
   "cell_type": "code",
   "execution_count": null,
   "metadata": {},
   "outputs": [],
   "source": []
  }
 ],
 "metadata": {
  "interpreter": {
   "hash": "319c24ade14b7873a3f936c1569cf8c1853592b8350107cb8f60c9b2a2771b37"
  },
  "kernelspec": {
   "display_name": "Python 3",
   "language": "python",
   "name": "python3"
  },
  "language_info": {
   "codemirror_mode": {
    "name": "ipython",
    "version": 3
   },
   "file_extension": ".py",
   "mimetype": "text/x-python",
   "name": "python",
   "nbconvert_exporter": "python",
   "pygments_lexer": "ipython3",
   "version": "3.7.7"
  }
 },
 "nbformat": 4,
 "nbformat_minor": 4
}
