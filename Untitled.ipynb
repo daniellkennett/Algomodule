{
 "cells": [
  {
   "cell_type": "code",
   "execution_count": 3,
   "id": "1e2163ea",
   "metadata": {},
   "outputs": [
    {
     "name": "stdin",
     "output_type": "stream",
     "text": [
      "Enter Robinhood code for validation:  735970\n"
     ]
    },
    {
     "data": {
      "text/plain": [
       "[]"
      ]
     },
     "execution_count": 3,
     "metadata": {},
     "output_type": "execute_result"
    }
   ],
   "source": [
    "\"\"\"\n",
    "1. Use Cryptocompare to get BTC info\n",
    "2. Use Robinhood stocks to trade BTC\n",
    "3. Train ML model to predict up in 5, 10, 15 mins\n",
    "4. \n",
    "\n",
    "\"\"\"\n",
    "\n",
    "import cryptocompare\n",
    "import pandas as pd\n",
    "import numpy as np\n",
    "import time\n",
    "import robin_stocks.robinhood as rh\n",
    "\n",
    "login = rh.login('uruk86@gmail.com','Dani108516.')\n"
   ]
  },
  {
   "cell_type": "code",
   "execution_count": 31,
   "id": "57943636",
   "metadata": {},
   "outputs": [
    {
     "name": "stdout",
     "output_type": "stream",
     "text": [
      "401 Client Error: Unauthorized for url: https://api.robinhood.com/marketdata/pricebook/snapshots/50810c35-d215-4866-9758-0ada4ac79ffa/\n"
     ]
    }
   ],
   "source": [
    "# rh.get_all_open_crypto_orders()\n",
    "# rh.order_buy_crypto_by_price('BTC',500)\n",
    "# #Buy 10 shares of Apple at market price\n",
    "# rh.order_buy_market('AAPL',10)\n",
    "# #Sell half a Bitcoin is price reaches 10,000\n",
    "# rh.order_sell_crypto_limit('BTC',0.5,10000)\n",
    "# #Buy $500 worth of Bitcoin\n",
    "# rh.order_buy_crypto_by_price('BTC',500)\n",
    "# #Buy 5 $150 May 1st, 2020 SPY puts if the price per contract is $1.00. Good until cancelled.\n",
    "# rh.order_buy_option_limit('open','debit',1.00,'SPY',5,'2020-05-01',150,'put','gtc')\n",
    "# rh.get_latest_price('AAPL')\n",
    "\n",
    "# rh.get_crypto_historicals('BTC', '5minute', 'day')"
   ]
  },
  {
   "cell_type": "code",
   "execution_count": 26,
   "id": "28b8119b",
   "metadata": {},
   "outputs": [
    {
     "data": {
      "text/plain": [
       "'&api_key=6631c11f19135c0803f8ec9f00a6a7199631a43c114f92d25ea5c75104497ed6'"
      ]
     },
     "execution_count": 26,
     "metadata": {},
     "output_type": "execute_result"
    }
   ],
   "source": [
    "key = '6631c11f19135c0803f8ec9f00a6a7199631a43c114f92d25ea5c75104497ed6'\n",
    "cryptocompare.cryptocompare._set_api_key_parameter(key)\n"
   ]
  },
  {
   "cell_type": "code",
   "execution_count": 28,
   "id": "85627426",
   "metadata": {},
   "outputs": [
    {
     "data": {
      "text/plain": [
       "{'BTC': {'USD': 65849.32}}"
      ]
     },
     "execution_count": 28,
     "metadata": {},
     "output_type": "execute_result"
    }
   ],
   "source": [
    "cryptocompare.get_price('BTC',currency='USD')"
   ]
  },
  {
   "cell_type": "code",
   "execution_count": 29,
   "id": "2a7a6926",
   "metadata": {},
   "outputs": [],
   "source": [
    "# cryptocompare.get_historical_price_minute('BTC', 'EUR', limit=24, exchange='CCCAGG', toTs=datetime.datetime.now())\n",
    "btc = pd.DataFrame(cryptocompare.get_historical_price_minute('BTC', currency='USD', limit=1440))"
   ]
  },
  {
   "cell_type": "code",
   "execution_count": 30,
   "id": "f86a6b65",
   "metadata": {},
   "outputs": [
    {
     "data": {
      "text/html": [
       "<div>\n",
       "<style scoped>\n",
       "    .dataframe tbody tr th:only-of-type {\n",
       "        vertical-align: middle;\n",
       "    }\n",
       "\n",
       "    .dataframe tbody tr th {\n",
       "        vertical-align: top;\n",
       "    }\n",
       "\n",
       "    .dataframe thead th {\n",
       "        text-align: right;\n",
       "    }\n",
       "</style>\n",
       "<table border=\"1\" class=\"dataframe\">\n",
       "  <thead>\n",
       "    <tr style=\"text-align: right;\">\n",
       "      <th></th>\n",
       "      <th>time</th>\n",
       "      <th>high</th>\n",
       "      <th>low</th>\n",
       "      <th>open</th>\n",
       "      <th>volumefrom</th>\n",
       "      <th>volumeto</th>\n",
       "      <th>close</th>\n",
       "      <th>conversionType</th>\n",
       "      <th>conversionSymbol</th>\n",
       "    </tr>\n",
       "  </thead>\n",
       "  <tbody>\n",
       "    <tr>\n",
       "      <th>0</th>\n",
       "      <td>2021-11-14 00:26:00</td>\n",
       "      <td>65246.74</td>\n",
       "      <td>65089.35</td>\n",
       "      <td>65089.39</td>\n",
       "      <td>47.59</td>\n",
       "      <td>3102742.85</td>\n",
       "      <td>65240.93</td>\n",
       "      <td>direct</td>\n",
       "      <td></td>\n",
       "    </tr>\n",
       "    <tr>\n",
       "      <th>1</th>\n",
       "      <td>2021-11-14 00:27:00</td>\n",
       "      <td>65320.10</td>\n",
       "      <td>65213.48</td>\n",
       "      <td>65240.93</td>\n",
       "      <td>68.09</td>\n",
       "      <td>4443629.35</td>\n",
       "      <td>65289.57</td>\n",
       "      <td>direct</td>\n",
       "      <td></td>\n",
       "    </tr>\n",
       "    <tr>\n",
       "      <th>2</th>\n",
       "      <td>2021-11-14 00:28:00</td>\n",
       "      <td>65303.02</td>\n",
       "      <td>65263.19</td>\n",
       "      <td>65289.57</td>\n",
       "      <td>23.82</td>\n",
       "      <td>1555307.25</td>\n",
       "      <td>65272.52</td>\n",
       "      <td>direct</td>\n",
       "      <td></td>\n",
       "    </tr>\n",
       "    <tr>\n",
       "      <th>3</th>\n",
       "      <td>2021-11-14 00:29:00</td>\n",
       "      <td>65288.80</td>\n",
       "      <td>65145.78</td>\n",
       "      <td>65272.52</td>\n",
       "      <td>75.03</td>\n",
       "      <td>4889601.18</td>\n",
       "      <td>65167.24</td>\n",
       "      <td>direct</td>\n",
       "      <td></td>\n",
       "    </tr>\n",
       "    <tr>\n",
       "      <th>4</th>\n",
       "      <td>2021-11-14 00:30:00</td>\n",
       "      <td>65267.16</td>\n",
       "      <td>65167.11</td>\n",
       "      <td>65167.24</td>\n",
       "      <td>34.58</td>\n",
       "      <td>2254384.26</td>\n",
       "      <td>65182.65</td>\n",
       "      <td>direct</td>\n",
       "      <td></td>\n",
       "    </tr>\n",
       "    <tr>\n",
       "      <th>...</th>\n",
       "      <td>...</td>\n",
       "      <td>...</td>\n",
       "      <td>...</td>\n",
       "      <td>...</td>\n",
       "      <td>...</td>\n",
       "      <td>...</td>\n",
       "      <td>...</td>\n",
       "      <td>...</td>\n",
       "      <td>...</td>\n",
       "    </tr>\n",
       "    <tr>\n",
       "      <th>1436</th>\n",
       "      <td>2021-11-15 00:22:00</td>\n",
       "      <td>66188.84</td>\n",
       "      <td>66077.09</td>\n",
       "      <td>66132.65</td>\n",
       "      <td>63.41</td>\n",
       "      <td>4193639.44</td>\n",
       "      <td>66094.83</td>\n",
       "      <td>direct</td>\n",
       "      <td></td>\n",
       "    </tr>\n",
       "    <tr>\n",
       "      <th>1437</th>\n",
       "      <td>2021-11-15 00:23:00</td>\n",
       "      <td>66098.52</td>\n",
       "      <td>66052.70</td>\n",
       "      <td>66094.83</td>\n",
       "      <td>10.69</td>\n",
       "      <td>706464.40</td>\n",
       "      <td>66075.98</td>\n",
       "      <td>direct</td>\n",
       "      <td></td>\n",
       "    </tr>\n",
       "    <tr>\n",
       "      <th>1438</th>\n",
       "      <td>2021-11-15 00:24:00</td>\n",
       "      <td>66134.85</td>\n",
       "      <td>66074.61</td>\n",
       "      <td>66075.98</td>\n",
       "      <td>20.44</td>\n",
       "      <td>1351315.83</td>\n",
       "      <td>66116.32</td>\n",
       "      <td>direct</td>\n",
       "      <td></td>\n",
       "    </tr>\n",
       "    <tr>\n",
       "      <th>1439</th>\n",
       "      <td>2021-11-15 00:25:00</td>\n",
       "      <td>66124.40</td>\n",
       "      <td>66003.24</td>\n",
       "      <td>66116.32</td>\n",
       "      <td>22.48</td>\n",
       "      <td>1485321.50</td>\n",
       "      <td>66007.44</td>\n",
       "      <td>direct</td>\n",
       "      <td></td>\n",
       "    </tr>\n",
       "    <tr>\n",
       "      <th>1440</th>\n",
       "      <td>2021-11-15 00:26:00</td>\n",
       "      <td>66023.21</td>\n",
       "      <td>65867.02</td>\n",
       "      <td>66007.44</td>\n",
       "      <td>43.77</td>\n",
       "      <td>2885648.86</td>\n",
       "      <td>65871.61</td>\n",
       "      <td>direct</td>\n",
       "      <td></td>\n",
       "    </tr>\n",
       "  </tbody>\n",
       "</table>\n",
       "<p>1441 rows × 9 columns</p>\n",
       "</div>"
      ],
      "text/plain": [
       "                    time      high       low      open  volumefrom  \\\n",
       "0    2021-11-14 00:26:00  65246.74  65089.35  65089.39       47.59   \n",
       "1    2021-11-14 00:27:00  65320.10  65213.48  65240.93       68.09   \n",
       "2    2021-11-14 00:28:00  65303.02  65263.19  65289.57       23.82   \n",
       "3    2021-11-14 00:29:00  65288.80  65145.78  65272.52       75.03   \n",
       "4    2021-11-14 00:30:00  65267.16  65167.11  65167.24       34.58   \n",
       "...                  ...       ...       ...       ...         ...   \n",
       "1436 2021-11-15 00:22:00  66188.84  66077.09  66132.65       63.41   \n",
       "1437 2021-11-15 00:23:00  66098.52  66052.70  66094.83       10.69   \n",
       "1438 2021-11-15 00:24:00  66134.85  66074.61  66075.98       20.44   \n",
       "1439 2021-11-15 00:25:00  66124.40  66003.24  66116.32       22.48   \n",
       "1440 2021-11-15 00:26:00  66023.21  65867.02  66007.44       43.77   \n",
       "\n",
       "        volumeto     close conversionType conversionSymbol  \n",
       "0     3102742.85  65240.93         direct                   \n",
       "1     4443629.35  65289.57         direct                   \n",
       "2     1555307.25  65272.52         direct                   \n",
       "3     4889601.18  65167.24         direct                   \n",
       "4     2254384.26  65182.65         direct                   \n",
       "...          ...       ...            ...              ...  \n",
       "1436  4193639.44  66094.83         direct                   \n",
       "1437   706464.40  66075.98         direct                   \n",
       "1438  1351315.83  66116.32         direct                   \n",
       "1439  1485321.50  66007.44         direct                   \n",
       "1440  2885648.86  65871.61         direct                   \n",
       "\n",
       "[1441 rows x 9 columns]"
      ]
     },
     "execution_count": 30,
     "metadata": {},
     "output_type": "execute_result"
    }
   ],
   "source": [
    "btc['time'] = pd.to_datetime(btc['time'],unit='s')\n",
    "btc"
   ]
  },
  {
   "cell_type": "code",
   "execution_count": null,
   "id": "23477314",
   "metadata": {},
   "outputs": [],
   "source": []
  }
 ],
 "metadata": {
  "kernelspec": {
   "display_name": "Python 3",
   "language": "python",
   "name": "python3"
  },
  "language_info": {
   "codemirror_mode": {
    "name": "ipython",
    "version": 3
   },
   "file_extension": ".py",
   "mimetype": "text/x-python",
   "name": "python",
   "nbconvert_exporter": "python",
   "pygments_lexer": "ipython3",
   "version": "3.7.7"
  }
 },
 "nbformat": 4,
 "nbformat_minor": 5
}
